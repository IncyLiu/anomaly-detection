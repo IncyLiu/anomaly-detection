{
 "cells": [
  {
   "cell_type": "code",
   "execution_count": 1,
   "metadata": {},
   "outputs": [
    {
     "name": "stderr",
     "output_type": "stream",
     "text": [
      "Using TensorFlow backend.\n"
     ]
    }
   ],
   "source": [
    "import numpy as np\n",
    "np.random.seed(1337)\n",
    "\n",
    "import matplotlib.pyplot as plt\n",
    "from keras.models import Sequential\n",
    "from keras.layers import LSTM, TimeDistributed, Dense\n",
    "from keras.optimizers import Adam"
   ]
  },
  {
   "cell_type": "code",
   "execution_count": 6,
   "metadata": {},
   "outputs": [],
   "source": [
    "BATCH_START = 0\n",
    "TIME_STEPS = 20\n",
    "BATCH_SIZE = 50\n",
    "INPUT_SIZE = 1\n",
    "OUTPUT_SIZE = 1\n",
    "CELL_SIZE = 20\n",
    "LR = 0.006"
   ]
  },
  {
   "cell_type": "code",
   "execution_count": 7,
   "metadata": {},
   "outputs": [],
   "source": [
    "def get_batch():\n",
    "    global BATCH_START, TIME_STEPS\n",
    "    # xs shape (50batch, 20steps)\n",
    "    xs = np.arange(BATCH_START, BATCH_START+TIME_STEPS*BATCH_SIZE).reshape((BATCH_SIZE, TIME_STEPS)) / (10*np.pi)\n",
    "    seq = np.sin(xs)\n",
    "    res = np.cos(xs)\n",
    "    BATCH_START += TIME_STEPS\n",
    "    return [seq[:, :, np.newaxis], res[:, :, np.newaxis], xs]"
   ]
  },
  {
   "cell_type": "code",
   "execution_count": 9,
   "metadata": {},
   "outputs": [],
   "source": [
    "model = Sequential()\n",
    "\n",
    "model.add(LSTM(\n",
    "    batch_input_shape=(BATCH_SIZE, TIME_STEPS, INPUT_SIZE),\n",
    "    units=CELL_SIZE,\n",
    "    return_sequences=True,\n",
    "    stateful=True,\n",
    "))\n",
    "\n",
    "model.add(TimeDistributed(Dense(OUTPUT_SIZE)))\n",
    "\n",
    "adam = Adam(LR)\n",
    "model.compile(optimizer=adam,\n",
    "             loss='mse')"
   ]
  },
  {
   "cell_type": "markdown",
   "metadata": {},
   "source": [
    "### training"
   ]
  },
  {
   "cell_type": "code",
   "execution_count": 18,
   "metadata": {},
   "outputs": [
    {
     "name": "stdout",
     "output_type": "stream",
     "text": [
      "train cost:  0.02611982\n",
      "train cost:  0.018766865\n",
      "train cost:  0.012382012\n",
      "train cost:  0.011061435\n",
      "train cost:  0.01449815\n",
      "train cost:  0.023999859\n",
      "train cost:  0.02640162\n",
      "train cost:  0.053912286\n",
      "train cost:  0.04179818\n",
      "train cost:  0.03627069\n",
      "train cost:  0.04349012\n",
      "train cost:  0.043727342\n",
      "train cost:  0.023348372\n",
      "train cost:  0.013053196\n",
      "train cost:  0.023506735\n",
      "train cost:  0.008856642\n",
      "train cost:  0.005831559\n",
      "train cost:  0.011335565\n",
      "train cost:  0.012664608\n",
      "train cost:  0.011348563\n",
      "train cost:  0.009331833\n",
      "train cost:  0.006752629\n",
      "train cost:  0.007824724\n",
      "train cost:  0.012826089\n",
      "train cost:  0.012312165\n",
      "train cost:  0.012075264\n",
      "train cost:  0.00959094\n",
      "train cost:  0.0061451253\n",
      "train cost:  0.011851584\n",
      "train cost:  0.009084783\n",
      "train cost:  0.009151847\n",
      "train cost:  0.009878916\n",
      "train cost:  0.009757786\n",
      "train cost:  0.0064105024\n",
      "train cost:  0.003941369\n",
      "train cost:  0.0047177644\n",
      "train cost:  0.0074155126\n",
      "train cost:  0.013096418\n",
      "train cost:  0.016435\n",
      "train cost:  0.01541537\n",
      "train cost:  0.017800508\n",
      "train cost:  0.013610873\n",
      "train cost:  0.017656928\n",
      "train cost:  0.025878273\n",
      "train cost:  0.019904833\n",
      "train cost:  0.021984082\n",
      "train cost:  0.022327375\n",
      "train cost:  0.018436246\n",
      "train cost:  0.023705704\n",
      "train cost:  0.028454246\n",
      "train cost:  0.018870862\n"
     ]
    },
    {
     "data": {
      "image/png": "[encoded data removed]",
      "text/plain": [
       "<Figure size 432x288 with 1 Axes>"
      ]
     },
     "metadata": {},
     "output_type": "display_data"
    }
   ],
   "source": [
    "for step in range(501):\n",
    "    # data shape = (batch_num, steps, inputs/outputs)\n",
    "    X_batch, Y_batch, xs = get_batch()\n",
    "    cost = model.train_on_batch(X_batch, Y_batch)\n",
    "    pred = model.predict(X_batch, BATCH_SIZE)\n",
    "    if step % 10 == 0:\n",
    "        print('train cost: ', cost)\n",
    "    if step > 480:\n",
    "        plt.plot(xs[0, :], Y_batch[0].flatten(), 'r', xs[0, :], pred.flatten()[:TIME_STEPS], 'b--')\n",
    "        plt.ylim((-1.2, 1.2))\n",
    "#plt.draw()"
   ]
  },
  {
   "cell_type": "code",
   "execution_count": null,
   "metadata": {},
   "outputs": [],
   "source": []
  }
 ],
 "metadata": {
  "kernelspec": {
   "display_name": "Python 3",
   "language": "python",
   "name": "python3"
  },
  "language_info": {
   "codemirror_mode": {
    "name": "ipython",
    "version": 3
   },
   "file_extension": ".py",
   "mimetype": "text/x-python",
   "name": "python",
   "nbconvert_exporter": "python",
   "pygments_lexer": "ipython3",
   "version": "3.6.5"
  }
 },
 "nbformat": 4,
 "nbformat_minor": 2
}
